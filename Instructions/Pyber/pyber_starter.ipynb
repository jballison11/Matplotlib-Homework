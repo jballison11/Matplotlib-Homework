{
 "cells": [
  {
   "cell_type": "code",
   "execution_count": 1,
   "metadata": {},
   "outputs": [
    {
     "data": {
      "text/html": [
       "<div>\n",
       "<style scoped>\n",
       "    .dataframe tbody tr th:only-of-type {\n",
       "        vertical-align: middle;\n",
       "    }\n",
       "\n",
       "    .dataframe tbody tr th {\n",
       "        vertical-align: top;\n",
       "    }\n",
       "\n",
       "    .dataframe thead th {\n",
       "        text-align: right;\n",
       "    }\n",
       "</style>\n",
       "<table border=\"1\" class=\"dataframe\">\n",
       "  <thead>\n",
       "    <tr style=\"text-align: right;\">\n",
       "      <th></th>\n",
       "      <th>city</th>\n",
       "      <th>driver_count</th>\n",
       "      <th>type</th>\n",
       "    </tr>\n",
       "  </thead>\n",
       "  <tbody>\n",
       "    <tr>\n",
       "      <th>0</th>\n",
       "      <td>Richardfort</td>\n",
       "      <td>38</td>\n",
       "      <td>Urban</td>\n",
       "    </tr>\n",
       "    <tr>\n",
       "      <th>1</th>\n",
       "      <td>Williamsstad</td>\n",
       "      <td>59</td>\n",
       "      <td>Urban</td>\n",
       "    </tr>\n",
       "    <tr>\n",
       "      <th>2</th>\n",
       "      <td>Port Angela</td>\n",
       "      <td>67</td>\n",
       "      <td>Urban</td>\n",
       "    </tr>\n",
       "    <tr>\n",
       "      <th>3</th>\n",
       "      <td>Rodneyfort</td>\n",
       "      <td>34</td>\n",
       "      <td>Urban</td>\n",
       "    </tr>\n",
       "    <tr>\n",
       "      <th>4</th>\n",
       "      <td>West Robert</td>\n",
       "      <td>39</td>\n",
       "      <td>Urban</td>\n",
       "    </tr>\n",
       "  </tbody>\n",
       "</table>\n",
       "</div>"
      ],
      "text/plain": [
       "           city  driver_count   type\n",
       "0   Richardfort            38  Urban\n",
       "1  Williamsstad            59  Urban\n",
       "2   Port Angela            67  Urban\n",
       "3    Rodneyfort            34  Urban\n",
       "4   West Robert            39  Urban"
      ]
     },
     "execution_count": 1,
     "metadata": {},
     "output_type": "execute_result"
    }
   ],
   "source": [
    "%matplotlib inline\n",
    "\n",
    "# Dependencies and Setup\n",
    "import matplotlib.pyplot as plt\n",
    "import pandas as pd\n",
    "import numpy as np\n",
    "\n",
    "# File to Load (Remember to change these)\n",
    "city_data_to_load = \"data/city_data.csv\"\n",
    "ride_data_to_load = \"data/ride_data.csv\"\n",
    "\n",
    "# Read the City and Ride Data\n",
    "city_load = \"data/city_data.csv\"\n",
    "ride_load = \"data/ride_data.csv\"\n",
    "city_load_read = pd.read_csv(city_load)\n",
    "ride_load_read = pd.read_csv(ride_load)\n",
    "\n",
    "\n",
    "# Display the data table for preview\n",
    "city_load_read.head()\n"
   ]
  },
  {
   "cell_type": "code",
   "execution_count": 2,
   "metadata": {},
   "outputs": [
    {
     "data": {
      "text/html": [
       "<div>\n",
       "<style scoped>\n",
       "    .dataframe tbody tr th:only-of-type {\n",
       "        vertical-align: middle;\n",
       "    }\n",
       "\n",
       "    .dataframe tbody tr th {\n",
       "        vertical-align: top;\n",
       "    }\n",
       "\n",
       "    .dataframe thead th {\n",
       "        text-align: right;\n",
       "    }\n",
       "</style>\n",
       "<table border=\"1\" class=\"dataframe\">\n",
       "  <thead>\n",
       "    <tr style=\"text-align: right;\">\n",
       "      <th></th>\n",
       "      <th>city</th>\n",
       "      <th>date</th>\n",
       "      <th>fare</th>\n",
       "      <th>ride_id</th>\n",
       "    </tr>\n",
       "  </thead>\n",
       "  <tbody>\n",
       "    <tr>\n",
       "      <th>0</th>\n",
       "      <td>Lake Jonathanshire</td>\n",
       "      <td>2018-01-14 10:14:22</td>\n",
       "      <td>13.83</td>\n",
       "      <td>5739410935873</td>\n",
       "    </tr>\n",
       "    <tr>\n",
       "      <th>1</th>\n",
       "      <td>South Michelleport</td>\n",
       "      <td>2018-03-04 18:24:09</td>\n",
       "      <td>30.24</td>\n",
       "      <td>2343912425577</td>\n",
       "    </tr>\n",
       "    <tr>\n",
       "      <th>2</th>\n",
       "      <td>Port Samanthamouth</td>\n",
       "      <td>2018-02-24 04:29:00</td>\n",
       "      <td>33.44</td>\n",
       "      <td>2005065760003</td>\n",
       "    </tr>\n",
       "    <tr>\n",
       "      <th>3</th>\n",
       "      <td>Rodneyfort</td>\n",
       "      <td>2018-02-10 23:22:03</td>\n",
       "      <td>23.44</td>\n",
       "      <td>5149245426178</td>\n",
       "    </tr>\n",
       "    <tr>\n",
       "      <th>4</th>\n",
       "      <td>South Jack</td>\n",
       "      <td>2018-03-06 04:28:35</td>\n",
       "      <td>34.58</td>\n",
       "      <td>3908451377344</td>\n",
       "    </tr>\n",
       "  </tbody>\n",
       "</table>\n",
       "</div>"
      ],
      "text/plain": [
       "                 city                 date   fare        ride_id\n",
       "0  Lake Jonathanshire  2018-01-14 10:14:22  13.83  5739410935873\n",
       "1  South Michelleport  2018-03-04 18:24:09  30.24  2343912425577\n",
       "2  Port Samanthamouth  2018-02-24 04:29:00  33.44  2005065760003\n",
       "3          Rodneyfort  2018-02-10 23:22:03  23.44  5149245426178\n",
       "4          South Jack  2018-03-06 04:28:35  34.58  3908451377344"
      ]
     },
     "execution_count": 2,
     "metadata": {},
     "output_type": "execute_result"
    }
   ],
   "source": [
    "ride_load_read.head()"
   ]
  },
  {
   "cell_type": "code",
   "execution_count": 27,
   "metadata": {},
   "outputs": [
    {
     "data": {
      "text/html": [
       "<div>\n",
       "<style scoped>\n",
       "    .dataframe tbody tr th:only-of-type {\n",
       "        vertical-align: middle;\n",
       "    }\n",
       "\n",
       "    .dataframe tbody tr th {\n",
       "        vertical-align: top;\n",
       "    }\n",
       "\n",
       "    .dataframe thead th {\n",
       "        text-align: right;\n",
       "    }\n",
       "</style>\n",
       "<table border=\"1\" class=\"dataframe\">\n",
       "  <thead>\n",
       "    <tr style=\"text-align: right;\">\n",
       "      <th></th>\n",
       "      <th>city</th>\n",
       "      <th>date</th>\n",
       "      <th>fare</th>\n",
       "      <th>ride_id</th>\n",
       "      <th>driver_count</th>\n",
       "      <th>type</th>\n",
       "    </tr>\n",
       "  </thead>\n",
       "  <tbody>\n",
       "    <tr>\n",
       "      <th>0</th>\n",
       "      <td>Lake Jonathanshire</td>\n",
       "      <td>2018-01-14 10:14:22</td>\n",
       "      <td>13.83</td>\n",
       "      <td>5739410935873</td>\n",
       "      <td>5</td>\n",
       "      <td>Urban</td>\n",
       "    </tr>\n",
       "    <tr>\n",
       "      <th>1</th>\n",
       "      <td>Lake Jonathanshire</td>\n",
       "      <td>2018-04-07 20:51:11</td>\n",
       "      <td>31.25</td>\n",
       "      <td>4441251834598</td>\n",
       "      <td>5</td>\n",
       "      <td>Urban</td>\n",
       "    </tr>\n",
       "    <tr>\n",
       "      <th>2</th>\n",
       "      <td>Lake Jonathanshire</td>\n",
       "      <td>2018-03-09 23:45:55</td>\n",
       "      <td>19.89</td>\n",
       "      <td>2389495660448</td>\n",
       "      <td>5</td>\n",
       "      <td>Urban</td>\n",
       "    </tr>\n",
       "    <tr>\n",
       "      <th>3</th>\n",
       "      <td>Lake Jonathanshire</td>\n",
       "      <td>2018-04-07 18:09:21</td>\n",
       "      <td>24.28</td>\n",
       "      <td>7796805191168</td>\n",
       "      <td>5</td>\n",
       "      <td>Urban</td>\n",
       "    </tr>\n",
       "    <tr>\n",
       "      <th>4</th>\n",
       "      <td>Lake Jonathanshire</td>\n",
       "      <td>2018-01-02 14:14:50</td>\n",
       "      <td>13.89</td>\n",
       "      <td>424254840012</td>\n",
       "      <td>5</td>\n",
       "      <td>Urban</td>\n",
       "    </tr>\n",
       "  </tbody>\n",
       "</table>\n",
       "</div>"
      ],
      "text/plain": [
       "                 city                 date   fare        ride_id  \\\n",
       "0  Lake Jonathanshire  2018-01-14 10:14:22  13.83  5739410935873   \n",
       "1  Lake Jonathanshire  2018-04-07 20:51:11  31.25  4441251834598   \n",
       "2  Lake Jonathanshire  2018-03-09 23:45:55  19.89  2389495660448   \n",
       "3  Lake Jonathanshire  2018-04-07 18:09:21  24.28  7796805191168   \n",
       "4  Lake Jonathanshire  2018-01-02 14:14:50  13.89   424254840012   \n",
       "\n",
       "   driver_count   type  \n",
       "0             5  Urban  \n",
       "1             5  Urban  \n",
       "2             5  Urban  \n",
       "3             5  Urban  \n",
       "4             5  Urban  "
      ]
     },
     "execution_count": 27,
     "metadata": {},
     "output_type": "execute_result"
    }
   ],
   "source": [
    "# Combine the data into a single data set\n",
    "merge_city_ride_data = pd.merge(ride_load_read, city_load_read, on=\"city\")\n",
    "merge_city_ride_data.head()"
   ]
  },
  {
   "cell_type": "code",
   "execution_count": 4,
   "metadata": {},
   "outputs": [],
   "source": [
    "city_groupby = merge_city_ride_data.groupby('city')\n",
    "city_groupby_ride_count = city_groupby['city'].count()"
   ]
  },
  {
   "cell_type": "code",
   "execution_count": 5,
   "metadata": {},
   "outputs": [],
   "source": [
    "city_groupby_fare_total = city_groupby['fare'].sum()"
   ]
  },
  {
   "cell_type": "code",
   "execution_count": 6,
   "metadata": {},
   "outputs": [],
   "source": [
    "average_city_fare = round(city_groupby_fare_total / city_groupby_ride_count, 2)"
   ]
  },
  {
   "cell_type": "code",
   "execution_count": 28,
   "metadata": {
    "scrolled": true
   },
   "outputs": [
    {
     "data": {
      "text/html": [
       "<div>\n",
       "<style scoped>\n",
       "    .dataframe tbody tr th:only-of-type {\n",
       "        vertical-align: middle;\n",
       "    }\n",
       "\n",
       "    .dataframe tbody tr th {\n",
       "        vertical-align: top;\n",
       "    }\n",
       "\n",
       "    .dataframe thead th {\n",
       "        text-align: right;\n",
       "    }\n",
       "</style>\n",
       "<table border=\"1\" class=\"dataframe\">\n",
       "  <thead>\n",
       "    <tr style=\"text-align: right;\">\n",
       "      <th></th>\n",
       "      <th>city groupby ride count</th>\n",
       "      <th>city groupby fare total</th>\n",
       "      <th>average city fare</th>\n",
       "    </tr>\n",
       "    <tr>\n",
       "      <th>city</th>\n",
       "      <th></th>\n",
       "      <th></th>\n",
       "      <th></th>\n",
       "    </tr>\n",
       "  </thead>\n",
       "  <tbody>\n",
       "    <tr>\n",
       "      <th>Amandaburgh</th>\n",
       "      <td>18</td>\n",
       "      <td>443.55</td>\n",
       "      <td>24.64</td>\n",
       "    </tr>\n",
       "    <tr>\n",
       "      <th>Barajasview</th>\n",
       "      <td>22</td>\n",
       "      <td>557.31</td>\n",
       "      <td>25.33</td>\n",
       "    </tr>\n",
       "    <tr>\n",
       "      <th>Barronchester</th>\n",
       "      <td>16</td>\n",
       "      <td>582.76</td>\n",
       "      <td>36.42</td>\n",
       "    </tr>\n",
       "    <tr>\n",
       "      <th>Bethanyland</th>\n",
       "      <td>18</td>\n",
       "      <td>593.21</td>\n",
       "      <td>32.96</td>\n",
       "    </tr>\n",
       "    <tr>\n",
       "      <th>Bradshawfurt</th>\n",
       "      <td>10</td>\n",
       "      <td>400.64</td>\n",
       "      <td>40.06</td>\n",
       "    </tr>\n",
       "  </tbody>\n",
       "</table>\n",
       "</div>"
      ],
      "text/plain": [
       "               city groupby ride count  city groupby fare total  \\\n",
       "city                                                              \n",
       "Amandaburgh                         18                   443.55   \n",
       "Barajasview                         22                   557.31   \n",
       "Barronchester                       16                   582.76   \n",
       "Bethanyland                         18                   593.21   \n",
       "Bradshawfurt                        10                   400.64   \n",
       "\n",
       "               average city fare  \n",
       "city                              \n",
       "Amandaburgh                24.64  \n",
       "Barajasview                25.33  \n",
       "Barronchester              36.42  \n",
       "Bethanyland                32.96  \n",
       "Bradshawfurt               40.06  "
      ]
     },
     "execution_count": 28,
     "metadata": {},
     "output_type": "execute_result"
    }
   ],
   "source": [
    "city_drop_duplicates = merge_city_ride_data.drop_duplicates('city').groupby('type')\n",
    "average_fare_df = pd.DataFrame({\n",
    "    'city groupby ride count': city_groupby_ride_count,\n",
    "    'city groupby fare total': city_groupby_fare_total,\n",
    "    'average city fare': average_city_fare\n",
    "    #'driver count':\n",
    "})\n",
    "average_fare_df.head()"
   ]
  },
  {
   "cell_type": "markdown",
   "metadata": {},
   "source": [
    "## Bubble Plot of Ride Sharing Data"
   ]
  },
  {
   "cell_type": "code",
   "execution_count": 19,
   "metadata": {},
   "outputs": [
    {
     "data": {
      "text/plain": [
       "<matplotlib.legend.Legend at 0x11a592d30>"
      ]
     },
     "execution_count": 19,
     "metadata": {},
     "output_type": "execute_result"
    },
    {
     "data": {
      "image/png": "[encoded data removed]",
      "text/plain": [
       "<Figure size 432x288 with 1 Axes>"
      ]
     },
     "metadata": {
      "needs_background": "light"
     },
     "output_type": "display_data"
    }
   ],
   "source": [
    "# Obtain the x and y coordinates for each of the three city types\n",
    "x_axis = average_fare_df['city groupby ride count']\n",
    "y_axis = average_fare_df['average city fare']\n",
    "\n",
    "#plt.scatter(x_axis, y_axis, marker=\"o\", facecolor=\"red\", edgecolor=\"black\")\n",
    "\n",
    "# Build the scatter plots for each city types\n",
    "\n",
    "urban_cities = merge_city_ride_data.loc[merge_city_ride_data['type'] == 'Urban'].groupby('city')\n",
    "suburban_cities = merge_city_ride_data.loc[merge_city_ride_data['type'] == 'Suburban'].groupby('city')\n",
    "rural_cities = merge_city_ride_data.loc[merge_city_ride_data['type'] == 'Rural'].groupby('city')\n",
    "\n",
    "# urban_x_axis = \n",
    "# urban_y_axis = city_groupby_ride_count\n",
    "# urban_s = \n",
    "\n",
    "# suburban_x_axis = average_city_fare\n",
    "# suburban_y_axis = city_groupby_ride_count\n",
    "# suburban_s = \n",
    "\n",
    "# rural X_axis = average_city_fare\n",
    "# rural_y_axis = city_groupby_ride_count\n",
    "# rural_s = \n",
    "\n",
    "# Incorporate the other graph properties\n",
    "plt.scatter(x_axis, y_axis, marker=\"o\", facecolor=\"red\", edgecolor=\"black\")\n",
    "plt.title(\"Pyber Ride Sharing Data (2016)\")\n",
    "plt.xlabel(\"Total Number of Rides (Per City)\")\n",
    "plt.ylabel(\"Average Fare ($)\")\n",
    "\n",
    "# Create a legend\n",
    "plt.legend(loc=\"upper right\")\n",
    "\n",
    "# Save Figure\n"
   ]
  },
  {
   "cell_type": "code",
   "execution_count": 9,
   "metadata": {},
   "outputs": [],
   "source": [
    "# Show plot\n",
    "plt.show()"
   ]
  },
  {
   "cell_type": "markdown",
   "metadata": {},
   "source": [
    "## Total Fares by City Type"
   ]
  },
  {
   "cell_type": "code",
   "execution_count": 10,
   "metadata": {},
   "outputs": [],
   "source": [
    "urban_cities = merge_city_ride_data.loc[merge_city_ride_data['type'] == 'Urban']\n",
    "suburban_cities = merge_city_ride_data.loc[merge_city_ride_data['type'] == 'Suburban']\n",
    "rural_cities = merge_city_ride_data.loc[merge_city_ride_data['type'] == 'Rural']"
   ]
  },
  {
   "cell_type": "code",
   "execution_count": 11,
   "metadata": {},
   "outputs": [
    {
     "data": {
      "image/png": "[encoded data removed]",
      "text/plain": [
       "<Figure size 432x288 with 1 Axes>"
      ]
     },
     "metadata": {},
     "output_type": "display_data"
    }
   ],
   "source": [
    "# Calculate Type Percents\n",
    "total_fare_by_type = merge_city_ride_data['fare'].sum()\n",
    "\n",
    "urban_fare_total = round(urban_cities.sum()['fare'], 2)\n",
    "suburban_fare_total = round(suburban_cities.sum()['fare'], 2)\n",
    "rural_fare_total = round(rural_cities.sum()['fare'], 2)\n",
    "\n",
    "urban_fare_percentage = round(urban_fare_total / total_fare_by_type * 100, 1)\n",
    "suburban_fare_percentage = round(suburban_fare_total / total_fare_by_type * 100 , 1)\n",
    "rural_fare_percentage = round(rural_fare_total / total_fare_by_type * 100, 1)\n",
    "\n",
    "# Build Pie Chart\n",
    "labels = ['Urban', 'Suburban', 'Rural']\n",
    "sizes = [urban_fare_percentage, suburban_fare_percentage, rural_fare_percentage]\n",
    "colors = ['lightcoral', 'lightskyblue', 'gold']\n",
    "explode = (0.1, 0, 0)\n",
    "\n",
    "plt.pie(sizes, explode=explode, labels=labels, colors=colors, autopct=\"%1.1f%%\", shadow=True)\n",
    "plt.title('% of Total Fares by City Type')\n",
    "\n",
    "# Save Figure\n",
    "plt.savefig(\"./Images/Total_Fares_Pie.png\")\n"
   ]
  },
  {
   "cell_type": "code",
   "execution_count": 12,
   "metadata": {},
   "outputs": [],
   "source": [
    "# Show Figure\n",
    "plt.show()"
   ]
  },
  {
   "cell_type": "markdown",
   "metadata": {},
   "source": [
    "## Total Rides by City Type"
   ]
  },
  {
   "cell_type": "code",
   "execution_count": 13,
   "metadata": {},
   "outputs": [
    {
     "data": {
      "image/png": "[encoded data removed]",
      "text/plain": [
       "<Figure size 432x288 with 1 Axes>"
      ]
     },
     "metadata": {},
     "output_type": "display_data"
    }
   ],
   "source": [
    "# Calculate Ride Percents\n",
    "total_ride_count = merge_city_ride_data['ride_id'].count()\n",
    "total_ride_count\n",
    "\n",
    "urban_city_count = urban_cities.count()['ride_id']\n",
    "suburban_city_count = suburban_cities.count()['ride_id']\n",
    "rural_city_count = rural_cities.count()['ride_id']\n",
    "\n",
    "urban_city_percentage = round(urban_city_count / total_ride_count * 100, 1)\n",
    "suburban_city_percentage = round(suburban_city_count / total_ride_count * 100, 1)\n",
    "rural_city_percentage = round(rural_city_count / total_ride_count * 100, 1)\n",
    "\n",
    "# Build Pie Chart\n",
    "labels = ['Urban', 'Suburban', 'Rural']\n",
    "sizes = [urban_city_percentage, suburban_city_percentage, rural_city_percentage]\n",
    "colors = ['lightcoral', 'lightskyblue', 'gold']\n",
    "explode = (0.1, 0, 0)\n",
    "\n",
    "plt.pie(sizes, explode=explode, labels=labels, colors=colors, autopct=\"%1.1f%%\", shadow=True)\n",
    "plt.title('% of Total Rides by City Type')\n",
    "\n",
    "# Save Figure\n",
    "plt.savefig(\"./Images/Total_Rides_Pie.png\")\n"
   ]
  },
  {
   "cell_type": "code",
   "execution_count": 14,
   "metadata": {},
   "outputs": [],
   "source": [
    "# Show Figure\n",
    "plt.show()"
   ]
  },
  {
   "cell_type": "markdown",
   "metadata": {},
   "source": [
    "## Total Drivers by City Type"
   ]
  },
  {
   "cell_type": "code",
   "execution_count": 15,
   "metadata": {},
   "outputs": [
    {
     "data": {
      "image/png": "[encoded data removed]",
      "text/plain": [
       "<Figure size 432x288 with 1 Axes>"
      ]
     },
     "metadata": {},
     "output_type": "display_data"
    }
   ],
   "source": [
    "# Calculate Driver Percents\n",
    "city_drop_duplicates = merge_city_ride_data.drop_duplicates('city').groupby('type')\n",
    "type_driver_count = city_drop_duplicates['driver_count'].sum()\n",
    "total_driver_count = type_driver_count['Urban'] + type_driver_count['Suburban'] + type_driver_count['Rural']\n",
    "\n",
    "urban_driver_percentage = round(type_driver_count['Urban'] / total_driver_count * 100, 1)\n",
    "suburban_driver_percentage = round(type_driver_count['Suburban'] / total_driver_count * 100, 1)\n",
    "rural_driver_percentage = round(type_driver_count['Rural'] / total_driver_count * 100, 1)\n",
    "\n",
    "# Build Pie Charts\n",
    "labels = ['Urban', 'Suburban', 'Rural']\n",
    "sizes = [urban_driver_percentage, suburban_driver_percentage, rural_driver_percentage]\n",
    "colors = ['lightcoral', 'lightskyblue', 'gold']\n",
    "explode = (0.1, 0, 0)\n",
    "\n",
    "plt.pie(sizes, explode=explode, labels=labels, colors=colors, autopct=\"%1.1f%%\", shadow=True)\n",
    "plt.title('% of Total Drivers by City Type')\n",
    "\n",
    "# Save Figure\n",
    "plt.savefig(\"./Images/Total_Drivers_Pie.png\")\n"
   ]
  },
  {
   "cell_type": "code",
   "execution_count": 16,
   "metadata": {
    "scrolled": true
   },
   "outputs": [],
   "source": [
    "# Show Figure\n",
    "plt.show()"
   ]
  },
  {
   "cell_type": "code",
   "execution_count": null,
   "metadata": {},
   "outputs": [],
   "source": []
  }
 ],
 "metadata": {
  "anaconda-cloud": {},
  "kernelspec": {
   "display_name": "Python 3",
   "language": "python",
   "name": "python3"
  },
  "language_info": {
   "codemirror_mode": {
    "name": "ipython",
    "version": 3
   },
   "file_extension": ".py",
   "mimetype": "text/x-python",
   "name": "python",
   "nbconvert_exporter": "python",
   "pygments_lexer": "ipython3",
   "version": "3.7.3"
  }
 },
 "nbformat": 4,
 "nbformat_minor": 2
}
